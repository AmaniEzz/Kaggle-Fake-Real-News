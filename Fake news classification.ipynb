{
 "cells": [
  {
   "cell_type": "code",
   "execution_count": 1,
   "metadata": {},
   "outputs": [],
   "source": [
    "import numpy as np\n",
    "import pandas as pd\n",
    "import seaborn as sns\n",
    "import matplotlib.pyplot as plt\n",
    "%matplotlib inline\n",
    "sns.set_style('darkgrid')\n",
    "\n",
    "from sklearn.metrics import classification_report,confusion_matrix,accuracy_score\n",
    "from sklearn.model_selection import train_test_split\n",
    "from sklearn.preprocessing import LabelBinarizer\n",
    "\n",
    "import string\n",
    "from nltk.corpus import stopwords    \n",
    "from bs4 import BeautifulSoup\n",
    "\n",
    "from keras.preprocessing import text,sequence\n",
    "import re,string,unicodedata"
   ]
  },
  {
   "cell_type": "markdown",
   "metadata": {},
   "source": [
    "<a id='load_data'></a>\n",
    "# Loading the data "
   ]
  },
  {
   "cell_type": "code",
   "execution_count": 2,
   "metadata": {},
   "outputs": [],
   "source": [
    "real = pd.read_csv('../input/fake-and-real-news-dataset/True.csv')\n",
    "fake = pd.read_csv('../input/fake-and-real-news-dataset/Fake.csv')"
   ]
  },
  {
   "cell_type": "code",
   "execution_count": 3,
   "metadata": {},
   "outputs": [
    {
     "data": {
      "text/html": [
       "<div>\n",
       "<style scoped>\n",
       "    .dataframe tbody tr th:only-of-type {\n",
       "        vertical-align: middle;\n",
       "    }\n",
       "\n",
       "    .dataframe tbody tr th {\n",
       "        vertical-align: top;\n",
       "    }\n",
       "\n",
       "    .dataframe thead th {\n",
       "        text-align: right;\n",
       "    }\n",
       "</style>\n",
       "<table border=\"1\" class=\"dataframe\">\n",
       "  <thead>\n",
       "    <tr style=\"text-align: right;\">\n",
       "      <th></th>\n",
       "      <th>title</th>\n",
       "      <th>text</th>\n",
       "      <th>subject</th>\n",
       "      <th>date</th>\n",
       "    </tr>\n",
       "  </thead>\n",
       "  <tbody>\n",
       "    <tr>\n",
       "      <th>0</th>\n",
       "      <td>As U.S. budget fight looms, Republicans flip t...</td>\n",
       "      <td>WASHINGTON (Reuters) - The head of a conservat...</td>\n",
       "      <td>politicsNews</td>\n",
       "      <td>December 31, 2017</td>\n",
       "    </tr>\n",
       "    <tr>\n",
       "      <th>1</th>\n",
       "      <td>U.S. military to accept transgender recruits o...</td>\n",
       "      <td>WASHINGTON (Reuters) - Transgender people will...</td>\n",
       "      <td>politicsNews</td>\n",
       "      <td>December 29, 2017</td>\n",
       "    </tr>\n",
       "    <tr>\n",
       "      <th>2</th>\n",
       "      <td>Senior U.S. Republican senator: 'Let Mr. Muell...</td>\n",
       "      <td>WASHINGTON (Reuters) - The special counsel inv...</td>\n",
       "      <td>politicsNews</td>\n",
       "      <td>December 31, 2017</td>\n",
       "    </tr>\n",
       "    <tr>\n",
       "      <th>3</th>\n",
       "      <td>FBI Russia probe helped by Australian diplomat...</td>\n",
       "      <td>WASHINGTON (Reuters) - Trump campaign adviser ...</td>\n",
       "      <td>politicsNews</td>\n",
       "      <td>December 30, 2017</td>\n",
       "    </tr>\n",
       "    <tr>\n",
       "      <th>4</th>\n",
       "      <td>Trump wants Postal Service to charge 'much mor...</td>\n",
       "      <td>SEATTLE/WASHINGTON (Reuters) - President Donal...</td>\n",
       "      <td>politicsNews</td>\n",
       "      <td>December 29, 2017</td>\n",
       "    </tr>\n",
       "  </tbody>\n",
       "</table>\n",
       "</div>"
      ],
      "text/plain": [
       "                                               title  \\\n",
       "0  As U.S. budget fight looms, Republicans flip t...   \n",
       "1  U.S. military to accept transgender recruits o...   \n",
       "2  Senior U.S. Republican senator: 'Let Mr. Muell...   \n",
       "3  FBI Russia probe helped by Australian diplomat...   \n",
       "4  Trump wants Postal Service to charge 'much mor...   \n",
       "\n",
       "                                                text       subject  \\\n",
       "0  WASHINGTON (Reuters) - The head of a conservat...  politicsNews   \n",
       "1  WASHINGTON (Reuters) - Transgender people will...  politicsNews   \n",
       "2  WASHINGTON (Reuters) - The special counsel inv...  politicsNews   \n",
       "3  WASHINGTON (Reuters) - Trump campaign adviser ...  politicsNews   \n",
       "4  SEATTLE/WASHINGTON (Reuters) - President Donal...  politicsNews   \n",
       "\n",
       "                 date  \n",
       "0  December 31, 2017   \n",
       "1  December 29, 2017   \n",
       "2  December 31, 2017   \n",
       "3  December 30, 2017   \n",
       "4  December 29, 2017   "
      ]
     },
     "execution_count": 3,
     "metadata": {},
     "output_type": "execute_result"
    }
   ],
   "source": [
    "real.head()"
   ]
  },
  {
   "cell_type": "code",
   "execution_count": 4,
   "metadata": {},
   "outputs": [
    {
     "data": {
      "text/html": [
       "<div>\n",
       "<style scoped>\n",
       "    .dataframe tbody tr th:only-of-type {\n",
       "        vertical-align: middle;\n",
       "    }\n",
       "\n",
       "    .dataframe tbody tr th {\n",
       "        vertical-align: top;\n",
       "    }\n",
       "\n",
       "    .dataframe thead th {\n",
       "        text-align: right;\n",
       "    }\n",
       "</style>\n",
       "<table border=\"1\" class=\"dataframe\">\n",
       "  <thead>\n",
       "    <tr style=\"text-align: right;\">\n",
       "      <th></th>\n",
       "      <th>title</th>\n",
       "      <th>text</th>\n",
       "      <th>subject</th>\n",
       "      <th>date</th>\n",
       "    </tr>\n",
       "  </thead>\n",
       "  <tbody>\n",
       "    <tr>\n",
       "      <th>0</th>\n",
       "      <td>Donald Trump Sends Out Embarrassing New Year’...</td>\n",
       "      <td>Donald Trump just couldn t wish all Americans ...</td>\n",
       "      <td>News</td>\n",
       "      <td>December 31, 2017</td>\n",
       "    </tr>\n",
       "    <tr>\n",
       "      <th>1</th>\n",
       "      <td>Drunk Bragging Trump Staffer Started Russian ...</td>\n",
       "      <td>House Intelligence Committee Chairman Devin Nu...</td>\n",
       "      <td>News</td>\n",
       "      <td>December 31, 2017</td>\n",
       "    </tr>\n",
       "    <tr>\n",
       "      <th>2</th>\n",
       "      <td>Sheriff David Clarke Becomes An Internet Joke...</td>\n",
       "      <td>On Friday, it was revealed that former Milwauk...</td>\n",
       "      <td>News</td>\n",
       "      <td>December 30, 2017</td>\n",
       "    </tr>\n",
       "    <tr>\n",
       "      <th>3</th>\n",
       "      <td>Trump Is So Obsessed He Even Has Obama’s Name...</td>\n",
       "      <td>On Christmas day, Donald Trump announced that ...</td>\n",
       "      <td>News</td>\n",
       "      <td>December 29, 2017</td>\n",
       "    </tr>\n",
       "    <tr>\n",
       "      <th>4</th>\n",
       "      <td>Pope Francis Just Called Out Donald Trump Dur...</td>\n",
       "      <td>Pope Francis used his annual Christmas Day mes...</td>\n",
       "      <td>News</td>\n",
       "      <td>December 25, 2017</td>\n",
       "    </tr>\n",
       "  </tbody>\n",
       "</table>\n",
       "</div>"
      ],
      "text/plain": [
       "                                               title  \\\n",
       "0   Donald Trump Sends Out Embarrassing New Year’...   \n",
       "1   Drunk Bragging Trump Staffer Started Russian ...   \n",
       "2   Sheriff David Clarke Becomes An Internet Joke...   \n",
       "3   Trump Is So Obsessed He Even Has Obama’s Name...   \n",
       "4   Pope Francis Just Called Out Donald Trump Dur...   \n",
       "\n",
       "                                                text subject  \\\n",
       "0  Donald Trump just couldn t wish all Americans ...    News   \n",
       "1  House Intelligence Committee Chairman Devin Nu...    News   \n",
       "2  On Friday, it was revealed that former Milwauk...    News   \n",
       "3  On Christmas day, Donald Trump announced that ...    News   \n",
       "4  Pope Francis used his annual Christmas Day mes...    News   \n",
       "\n",
       "                date  \n",
       "0  December 31, 2017  \n",
       "1  December 31, 2017  \n",
       "2  December 30, 2017  \n",
       "3  December 29, 2017  \n",
       "4  December 25, 2017  "
      ]
     },
     "execution_count": 4,
     "metadata": {},
     "output_type": "execute_result"
    }
   ],
   "source": [
    "fake.head()"
   ]
  },
  {
   "cell_type": "code",
   "execution_count": 5,
   "metadata": {},
   "outputs": [
    {
     "data": {
      "text/html": [
       "<div>\n",
       "<style scoped>\n",
       "    .dataframe tbody tr th:only-of-type {\n",
       "        vertical-align: middle;\n",
       "    }\n",
       "\n",
       "    .dataframe tbody tr th {\n",
       "        vertical-align: top;\n",
       "    }\n",
       "\n",
       "    .dataframe thead th {\n",
       "        text-align: right;\n",
       "    }\n",
       "</style>\n",
       "<table border=\"1\" class=\"dataframe\">\n",
       "  <thead>\n",
       "    <tr style=\"text-align: right;\">\n",
       "      <th></th>\n",
       "      <th>title</th>\n",
       "      <th>text</th>\n",
       "      <th>subject</th>\n",
       "      <th>date</th>\n",
       "      <th>Label</th>\n",
       "    </tr>\n",
       "  </thead>\n",
       "  <tbody>\n",
       "    <tr>\n",
       "      <th>13205</th>\n",
       "      <td>Houthi radio station says ex-president Saleh k...</td>\n",
       "      <td>DUBAI (Reuters) - The radio station of Yemen s...</td>\n",
       "      <td>worldnews</td>\n",
       "      <td>December 4, 2017</td>\n",
       "      <td>0</td>\n",
       "    </tr>\n",
       "    <tr>\n",
       "      <th>10216</th>\n",
       "      <td>Brill to step down from U.S. Federal Trade Com...</td>\n",
       "      <td>WASHINGTON (Reuters) - One of the commissioner...</td>\n",
       "      <td>politicsNews</td>\n",
       "      <td>March 22, 2016</td>\n",
       "      <td>0</td>\n",
       "    </tr>\n",
       "    <tr>\n",
       "      <th>16748</th>\n",
       "      <td>SENATOR MIKE LEE Nails It On Why The Senate Op...</td>\n",
       "      <td>Senator Mike Lee gives it right back to FOX s ...</td>\n",
       "      <td>Government News</td>\n",
       "      <td>Feb 24, 2016</td>\n",
       "      <td>1</td>\n",
       "    </tr>\n",
       "    <tr>\n",
       "      <th>9989</th>\n",
       "      <td>MUST WATCH: Louisiana Patriots Go Wild in Supp...</td>\n",
       "      <td>The crowd went wild when President Trump and t...</td>\n",
       "      <td>politics</td>\n",
       "      <td>Sep 3, 2017</td>\n",
       "      <td>1</td>\n",
       "    </tr>\n",
       "    <tr>\n",
       "      <th>5319</th>\n",
       "      <td>WATCH: Michelle Obama DESTROYS Donald Trump W...</td>\n",
       "      <td>First Lady Michelle Obama brought the house do...</td>\n",
       "      <td>News</td>\n",
       "      <td>July 26, 2016</td>\n",
       "      <td>1</td>\n",
       "    </tr>\n",
       "  </tbody>\n",
       "</table>\n",
       "</div>"
      ],
      "text/plain": [
       "                                                   title  \\\n",
       "13205  Houthi radio station says ex-president Saleh k...   \n",
       "10216  Brill to step down from U.S. Federal Trade Com...   \n",
       "16748  SENATOR MIKE LEE Nails It On Why The Senate Op...   \n",
       "9989   MUST WATCH: Louisiana Patriots Go Wild in Supp...   \n",
       "5319    WATCH: Michelle Obama DESTROYS Donald Trump W...   \n",
       "\n",
       "                                                    text          subject  \\\n",
       "13205  DUBAI (Reuters) - The radio station of Yemen s...        worldnews   \n",
       "10216  WASHINGTON (Reuters) - One of the commissioner...     politicsNews   \n",
       "16748  Senator Mike Lee gives it right back to FOX s ...  Government News   \n",
       "9989   The crowd went wild when President Trump and t...         politics   \n",
       "5319   First Lady Michelle Obama brought the house do...             News   \n",
       "\n",
       "                    date  Label  \n",
       "13205  December 4, 2017       0  \n",
       "10216    March 22, 2016       0  \n",
       "16748       Feb 24, 2016      1  \n",
       "9989         Sep 3, 2017      1  \n",
       "5319       July 26, 2016      1  "
      ]
     },
     "execution_count": 5,
     "metadata": {},
     "output_type": "execute_result"
    }
   ],
   "source": [
    "#create a target column of 0 or 1 if the new is fake or real \n",
    "real['Label']=0\n",
    "fake['Label']=1\n",
    "\n",
    "#Using conactenate function of pandas :\n",
    "data=pd.concat([real,fake])\n",
    "data.sample(5)\n",
    "\n"
   ]
  },
  {
   "cell_type": "code",
   "execution_count": 6,
   "metadata": {},
   "outputs": [
    {
     "data": {
      "text/plain": [
       "(44898, 5)"
      ]
     },
     "execution_count": 6,
     "metadata": {},
     "output_type": "execute_result"
    }
   ],
   "source": [
    "#check the shape of data\n",
    "np.shape(data)"
   ]
  },
  {
   "cell_type": "code",
   "execution_count": 7,
   "metadata": {},
   "outputs": [
    {
     "data": {
      "text/plain": [
       "title      0\n",
       "text       0\n",
       "subject    0\n",
       "date       0\n",
       "Label      0\n",
       "dtype: int64"
      ]
     },
     "execution_count": 7,
     "metadata": {},
     "output_type": "execute_result"
    }
   ],
   "source": [
    "#check for null values --> no null values found!\n",
    "data.isnull().sum()"
   ]
  },
  {
   "cell_type": "markdown",
   "metadata": {},
   "source": [
    "<a id='visualize_data'></a>\n",
    "## Visualizing the data "
   ]
  },
  {
   "cell_type": "code",
   "execution_count": 8,
   "metadata": {
    "collapsed": true
   },
   "outputs": [
    {
     "data": {
      "text/plain": [
       "<matplotlib.axes._subplots.AxesSubplot at 0x7f0d21fcf450>"
      ]
     },
     "execution_count": 8,
     "metadata": {},
     "output_type": "execute_result"
    },
    {
     "data": {
      "image/png": "[encoded data removed]",
      "text/plain": [
       "<Figure size 432x288 with 1 Axes>"
      ]
     },
     "metadata": {},
     "output_type": "display_data"
    }
   ],
   "source": [
    "#How many of the given news are fake and how many of them are real?\n",
    "sns.countplot(data.Label)"
   ]
  },
  {
   "cell_type": "code",
   "execution_count": 9,
   "metadata": {},
   "outputs": [
    {
     "data": {
      "text/plain": [
       "44898"
      ]
     },
     "execution_count": 9,
     "metadata": {},
     "output_type": "execute_result"
    }
   ],
   "source": [
    "#how many unqiue titles are there. Are any of the titles repeated?\n",
    "data.title.count()"
   ]
  },
  {
   "cell_type": "markdown",
   "metadata": {},
   "source": [
    "How many subjects are there ? We can see that using value_counts()"
   ]
  },
  {
   "cell_type": "code",
   "execution_count": 10,
   "metadata": {},
   "outputs": [
    {
     "data": {
      "text/plain": [
       "politicsNews       11272\n",
       "worldnews          10145\n",
       "News                9050\n",
       "politics            6841\n",
       "left-news           4459\n",
       "Government News     1570\n",
       "US_News              783\n",
       "Middle-east          778\n",
       "Name: subject, dtype: int64"
      ]
     },
     "execution_count": 10,
     "metadata": {},
     "output_type": "execute_result"
    }
   ],
   "source": [
    "data.subject.value_counts()"
   ]
  },
  {
   "cell_type": "code",
   "execution_count": 11,
   "metadata": {},
   "outputs": [
    {
     "data": {
      "text/plain": [
       "[Text(0, 0, 'politicsNews'),\n",
       " Text(0, 0, 'worldnews'),\n",
       " Text(0, 0, 'News'),\n",
       " Text(0, 0, 'politics'),\n",
       " Text(0, 0, 'Government News'),\n",
       " Text(0, 0, 'left-news'),\n",
       " Text(0, 0, 'US_News'),\n",
       " Text(0, 0, 'Middle-east')]"
      ]
     },
     "execution_count": 11,
     "metadata": {},
     "output_type": "execute_result"
    },
    {
     "data": {
      "image/png": "[encoded data removed]",
      "text/plain": [
       "<Figure size 720x720 with 1 Axes>"
      ]
     },
     "metadata": {},
     "output_type": "display_data"
    }
   ],
   "source": [
    "plt.figure(figsize=(10,10))\n",
    "chart=sns.countplot(x='subject',hue='Label',data=data,palette='muted')\n",
    "chart.set_xticklabels(chart.get_xticklabels(),rotation=90,fontsize=10)"
   ]
  },
  {
   "cell_type": "markdown",
   "metadata": {},
   "source": [
    "![](http://)Now we will place all of the required columns in one and delete all the not-so-required columns."
   ]
  },
  {
   "cell_type": "code",
   "execution_count": 12,
   "metadata": {},
   "outputs": [
    {
     "name": "stdout",
     "output_type": "stream",
     "text": [
      "0        WASHINGTON (Reuters) - The head of a conservat...\n",
      "1        WASHINGTON (Reuters) - Transgender people will...\n",
      "2        WASHINGTON (Reuters) - The special counsel inv...\n",
      "3        WASHINGTON (Reuters) - Trump campaign adviser ...\n",
      "4        SEATTLE/WASHINGTON (Reuters) - President Donal...\n",
      "                               ...                        \n",
      "23476    21st Century Wire says As 21WIRE reported earl...\n",
      "23477    21st Century Wire says It s a familiar theme. ...\n",
      "23478    Patrick Henningsen  21st Century WireRemember ...\n",
      "23479    21st Century Wire says Al Jazeera America will...\n",
      "23480    21st Century Wire says As 21WIRE predicted in ...\n",
      "Length: 44898, dtype: object\n",
      "0        0\n",
      "1        0\n",
      "2        0\n",
      "3        0\n",
      "4        0\n",
      "        ..\n",
      "23476    1\n",
      "23477    1\n",
      "23478    1\n",
      "23479    1\n",
      "23480    1\n",
      "Name: Label, Length: 44898, dtype: int64\n"
     ]
    }
   ],
   "source": [
    "\n",
    "X = data['text']+ \" \" + data['title']\n",
    "Y = data['Label']\n",
    "print(X)\n",
    "print(Y)"
   ]
  },
  {
   "cell_type": "markdown",
   "metadata": {},
   "source": [
    "<a id='clean_data'></a>\n",
    "## Cleaning the data"
   ]
  },
  {
   "cell_type": "markdown",
   "metadata": {},
   "source": [
    "We will be removing punctuation , stopwords,URLS, html tags from our text data. <br>\n",
    "For this we shall use beautifulsoup and re library which we imported earlier."
   ]
  },
  {
   "cell_type": "code",
   "execution_count": 13,
   "metadata": {},
   "outputs": [
    {
     "name": "stdout",
     "output_type": "stream",
     "text": [
      "0        WASHINGTON (Reuters) head conservative Republi...\n",
      "1        WASHINGTON (Reuters) Transgender people allowe...\n",
      "2        WASHINGTON (Reuters) special counsel investiga...\n",
      "3        WASHINGTON (Reuters) Trump campaign adviser Ge...\n",
      "4        SEATTLE/WASHINGTON (Reuters) President Donald ...\n",
      "                               ...                        \n",
      "23476    21st Century Wire says 21WIRE reported earlier...\n",
      "23477    21st Century Wire says familiar theme. Wheneve...\n",
      "23478    Patrick Henningsen 21st Century WireRemember O...\n",
      "23479    21st Century Wire says Al Jazeera America go h...\n",
      "23480    21st Century Wire says 21WIRE predicted new ye...\n",
      "Length: 44898, dtype: object\n"
     ]
    }
   ],
   "source": [
    "stop_words=set(stopwords.words('english'))\n",
    "punctuation=list(string.punctuation)\n",
    "stop_words.update(punctuation)\n",
    "\n",
    "def clean_text_data(text):\n",
    "    text = BeautifulSoup(text,\"html.parser\").get_text()\n",
    "    text = re.sub('\\[[^]]*\\]','',text)\n",
    "    text = re.sub(r'http\\S+','',text)\n",
    "    final_text = []\n",
    "    for i in text.split():\n",
    "        if i.strip().lower() not in stop_words:\n",
    "            final_text.append(i.strip())\n",
    "    return \" \".join(final_text)  \n",
    "\n",
    "\n",
    "X = X.apply(clean_text_data)\n",
    "print(X)"
   ]
  },
  {
   "cell_type": "markdown",
   "metadata": {},
   "source": [
    "## TfidfVectorizer"
   ]
  },
  {
   "cell_type": "code",
   "execution_count": 14,
   "metadata": {},
   "outputs": [],
   "source": [
    "#split the train and test data\n",
    "X_train,X_test,y_train,y_test=train_test_split(X,Y, test_size=0.2,random_state=0)\n",
    "\n",
    "\n",
    "from sklearn.feature_extraction.text import TfidfVectorizer\n",
    "tfidf_vectorizer=TfidfVectorizer(min_df = 5,\n",
    "                             max_df = 0.8,\n",
    "                             sublinear_tf = True,\n",
    "                             use_idf = True)\n",
    "\n",
    "tfidf_train=tfidf_vectorizer.fit_transform(X_train) \n",
    "tfidf_test=tfidf_vectorizer.transform(X_test)\n",
    "\n",
    "\n"
   ]
  },
  {
   "cell_type": "markdown",
   "metadata": {},
   "source": [
    "# Building our Linear SVM"
   ]
  },
  {
   "cell_type": "code",
   "execution_count": 15,
   "metadata": {},
   "outputs": [
    {
     "name": "stdout",
     "output_type": "stream",
     "text": [
      "Accuracy: 99.81%\n"
     ]
    },
    {
     "data": {
      "text/plain": [
       "Text(24.0, 0.5, 'Predicted')"
      ]
     },
     "execution_count": 15,
     "metadata": {},
     "output_type": "execute_result"
    },
    {
     "data": {
      "image/png": "[encoded data removed]",
      "text/plain": [
       "<Figure size 360x360 with 2 Axes>"
      ]
     },
     "metadata": {},
     "output_type": "display_data"
    }
   ],
   "source": [
    "from sklearn import svm\n",
    "from sklearn.metrics import classification_report\n",
    "\n",
    "# Perform classification with SVM, kernel=linear\n",
    "classifier_linear = svm.SVC(kernel='linear')\n",
    "\n",
    "classifier_linear.fit(tfidf_train, y_train)\n",
    "prediction_linear = classifier_linear.predict(tfidf_test)\n",
    "\n",
    "print(f'Accuracy: {round((accuracy_score(y_test, prediction_linear))*100,2)}%')\n",
    "\n",
    "cm = confusion_matrix(y_test, prediction_linear)\n",
    "\n",
    "cm=pd.DataFrame(cm,index=['Fake','Not Fake'],columns=['Fake','Not Fake'])\n",
    "\n",
    "\n",
    "plt.figure(figsize=(5,5))\n",
    "sns.heatmap(cm,cmap=\"Blues\",linecolor='black',linewidth=1,annot=True,fmt='',xticklabels=['Fake','Not Fake'],yticklabels=['Fake','Not Fake'])\n",
    "plt.xlabel('Actual')\n",
    "plt.ylabel('Predicted')\n"
   ]
  },
  {
   "cell_type": "markdown",
   "metadata": {},
   "source": [
    "# Building our MultinomialNB Algorithm¶\n"
   ]
  },
  {
   "cell_type": "code",
   "execution_count": 16,
   "metadata": {},
   "outputs": [
    {
     "name": "stdout",
     "output_type": "stream",
     "text": [
      "Accuracy: 95.07%\n"
     ]
    },
    {
     "data": {
      "text/plain": [
       "Text(24.0, 0.5, 'Predicted')"
      ]
     },
     "execution_count": 16,
     "metadata": {},
     "output_type": "execute_result"
    },
    {
     "data": {
      "image/png": "[encoded data removed]",
      "text/plain": [
       "<Figure size 360x360 with 2 Axes>"
      ]
     },
     "metadata": {},
     "output_type": "display_data"
    }
   ],
   "source": [
    "from sklearn.naive_bayes import MultinomialNB\n",
    "classifier=MultinomialNB(alpha=0.1)\n",
    "\n",
    "classifier.fit(tfidf_train, y_train)\n",
    "pred = classifier.predict(tfidf_test)\n",
    "\n",
    "print(f'Accuracy: {round((accuracy_score(y_test, pred))*100,2)}%')\n",
    "\n",
    "cm = confusion_matrix(y_test, pred)\n",
    "\n",
    "cm=pd.DataFrame(cm,index=['Fake','Real'],columns=['Fake','Real'])\n",
    "\n",
    "\n",
    "plt.figure(figsize=(5,5))\n",
    "sns.heatmap(cm,cmap=\"Blues\",linecolor='black',linewidth=1,annot=True,fmt='',xticklabels=['Fake','Real'],yticklabels=['Fake','Not Fake'])\n",
    "plt.xlabel('Actual')\n",
    "plt.ylabel('Predicted')"
   ]
  },
  {
   "cell_type": "markdown",
   "metadata": {},
   "source": [
    "# Passive Aggressive Classifier Algorithm\n"
   ]
  },
  {
   "cell_type": "code",
   "execution_count": 17,
   "metadata": {},
   "outputs": [
    {
     "name": "stdout",
     "output_type": "stream",
     "text": [
      "Accuracy: 99.8%\n"
     ]
    },
    {
     "data": {
      "text/plain": [
       "Text(24.0, 0.5, 'Predicted')"
      ]
     },
     "execution_count": 17,
     "metadata": {},
     "output_type": "execute_result"
    },
    {
     "data": {
      "image/png": "[encoded data removed]",
      "text/plain": [
       "<Figure size 360x360 with 2 Axes>"
      ]
     },
     "metadata": {},
     "output_type": "display_data"
    }
   ],
   "source": [
    "from sklearn.linear_model import PassiveAggressiveClassifier\n",
    "from sklearn.metrics import accuracy_score, confusion_matrix\n",
    "\n",
    "clf = PassiveAggressiveClassifier(max_iter=80)\n",
    "\n",
    "clf.fit(tfidf_train,y_train)\n",
    "\n",
    "y_pred=clf.predict(tfidf_test)\n",
    "print(f'Accuracy: {round((accuracy_score(y_test,y_pred))*100,2)}%')\n",
    "\n",
    "cm=confusion_matrix(y_test,y_pred)\n",
    "cm=pd.DataFrame(cm,index=['Fake','Real'],columns=['Fake','Real'])\n",
    "\n",
    "\n",
    "plt.figure(figsize=(5,5))\n",
    "sns.heatmap(cm,cmap=\"Blues\",linecolor='black',linewidth=1,annot=True,fmt='',xticklabels=['Fake','Real'],yticklabels=['Fake','Not Fake'])\n",
    "plt.xlabel('Actual')\n",
    "plt.ylabel('Predicted')"
   ]
  }
 ],
 "metadata": {
  "kernelspec": {
   "display_name": "Python 3",
   "language": "python",
   "name": "python3"
  },
  "language_info": {
   "codemirror_mode": {
    "name": "ipython",
    "version": 3
   },
   "file_extension": ".py",
   "mimetype": "text/x-python",
   "name": "python",
   "nbconvert_exporter": "python",
   "pygments_lexer": "ipython3",
   "version": "3.7.1"
  }
 },
 "nbformat": 4,
 "nbformat_minor": 4
}
